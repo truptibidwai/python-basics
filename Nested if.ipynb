{
 "cells": [
  {
   "cell_type": "code",
   "execution_count": null,
   "id": "f5c83610",
   "metadata": {},
   "outputs": [],
   "source": [
    "#more than 2 conditions"
   ]
  },
  {
   "cell_type": "markdown",
   "id": "1578925f",
   "metadata": {},
   "source": [
    "### Example code to check voting eligibility with ID verification"
   ]
  },
  {
   "cell_type": "code",
   "execution_count": 2,
   "id": "10664ebf",
   "metadata": {},
   "outputs": [
    {
     "name": "stdout",
     "output_type": "stream",
     "text": [
      "Do you have a valid ID? (yes/no): yes\n"
     ]
    },
    {
     "data": {
      "text/plain": [
       "'YES'"
      ]
     },
     "execution_count": 2,
     "metadata": {},
     "output_type": "execute_result"
    }
   ],
   "source": [
    "has_id =str(input(\"Do you have a valid ID? (yes/no): \")).upper()\n",
    "has_id"
   ]
  },
  {
   "cell_type": "code",
   "execution_count": 6,
   "id": "e193745b",
   "metadata": {},
   "outputs": [
    {
     "name": "stdout",
     "output_type": "stream",
     "text": [
      "Enter your age: 55\n",
      "Do you have a valid ID? (yes/no): yes\n",
      "You are eligible to vote.\n"
     ]
    }
   ],
   "source": [
    "#nested if\n",
    "age = int(input(\"Enter your age: \"))\n",
    "#has_id =str(input(\"Do you have a valid ID? (yes/no): \")).upper() #YES,Yes, yES\n",
    "\n",
    "if age >= 18:\n",
    "    has_id =str(input(\"Do you have a valid ID? (yes/no): \")).upper() #YES,Yes, yES\n",
    "    if has_id == \"YES\" or has_id==\"Y\" :\n",
    "        print(\"You are eligible to vote.\")\n",
    "    else:\n",
    "        print(\"Please bring a valid ID to vote.\")\n",
    "else:\n",
    "    print(\"You are not eligible to vote.\")"
   ]
  },
  {
   "cell_type": "code",
   "execution_count": 7,
   "id": "b2d2ef2c",
   "metadata": {},
   "outputs": [
    {
     "name": "stdout",
     "output_type": "stream",
     "text": [
      "Enter your age: 55\n",
      "Do you have a valid ID? (yes/no): n\n",
      "You are not eligible to vote.\n"
     ]
    }
   ],
   "source": [
    "age = int(input(\"Enter your age: \"))\n",
    "has_id = input(\"Do you have a valid ID? (yes/no): \").lower()\n",
    "\n",
    "if age >= 18 and has_id == \"yes\": \n",
    "    print(\"You are eligible to vote.\")\n",
    "elif age >= 18 and has_id == \"no\":\n",
    "    print(\"Please bring a valid ID to vote.\")\n",
    "else:\n",
    "    print(\"You are not eligible to vote.\")"
   ]
  },
  {
   "cell_type": "markdown",
   "id": "f7c883f4",
   "metadata": {},
   "source": [
    "### Example code to determine ticket pricing based on age and type"
   ]
  },
  {
   "cell_type": "code",
   "execution_count": 18,
   "id": "7fb0d2ca",
   "metadata": {},
   "outputs": [
    {
     "name": "stdout",
     "output_type": "stream",
     "text": [
      "Enter ticket type (adult/child): child\n",
      "Enter your age: 4\n",
      "Ticket price: 2\n"
     ]
    }
   ],
   "source": [
    "ticket_type = str(input(\"Enter ticket type (adult/child): \")).upper()\n",
    "if ticket_type == \"ADULT\":\n",
    "    age = int(input(\"Enter your age: \"))\n",
    "    if age >= 25:\n",
    "        price = 10\n",
    "        \n",
    "    else:\n",
    "        price = 5\n",
    "else:\n",
    "    age = int(input(\"Enter your age: \"))\n",
    "    if age <= 12:\n",
    "        price = 2\n",
    "    else:\n",
    "        price = 3\n",
    "\n",
    "print(\"Ticket price:\", price)"
   ]
  },
  {
   "cell_type": "markdown",
   "id": "2289b73a",
   "metadata": {},
   "source": [
    "### Example code to calculate discount based on purchase amount and membership"
   ]
  },
  {
   "cell_type": "code",
   "execution_count": 19,
   "id": "3aca7ce9",
   "metadata": {},
   "outputs": [
    {
     "name": "stdout",
     "output_type": "stream",
     "text": [
      "Enter purchase amount: 100\n",
      "Are you a member? (yes/no): no\n",
      "Total amount after discount: 98.0\n"
     ]
    }
   ],
   "source": [
    "purchase_amt = float(input(\"Enter purchase amount: \"))\n",
    "is_member = str(input(\"Are you a member? (yes/no): \")).lower()\n",
    "\n",
    "if is_member == \"yes\":\n",
    "    if purchase_amt >= 100:\n",
    "        discount = 0.1 * purchase_amt  #10%\n",
    "    else:\n",
    "        discount = 0.05 * purchase_amt  #5%\n",
    "else:\n",
    "    if purchase_amt >= 100:\n",
    "        discount = 0.02 * purchase_amt  #2%\n",
    "    else:\n",
    "        discount = 0\n",
    "\n",
    "paid_amount = purchase_amt - discount\n",
    "print(\"Total amount after discount:\", paid_amount)"
   ]
  },
  {
   "cell_type": "code",
   "execution_count": null,
   "id": "cd95969e",
   "metadata": {},
   "outputs": [],
   "source": []
  }
 ],
 "metadata": {
  "kernelspec": {
   "display_name": "Python 3 (ipykernel)",
   "language": "python",
   "name": "python3"
  },
  "language_info": {
   "codemirror_mode": {
    "name": "ipython",
    "version": 3
   },
   "file_extension": ".py",
   "mimetype": "text/x-python",
   "name": "python",
   "nbconvert_exporter": "python",
   "pygments_lexer": "ipython3",
   "version": "3.11.3"
  }
 },
 "nbformat": 4,
 "nbformat_minor": 5
}
