{
 "cells": [
  {
   "cell_type": "code",
   "execution_count": 2,
   "id": "f320f619",
   "metadata": {},
   "outputs": [
    {
     "data": {
      "text/plain": [
       "int"
      ]
     },
     "execution_count": 2,
     "metadata": {},
     "output_type": "execute_result"
    }
   ],
   "source": [
    "x=21\n",
    "type(x)\n"
   ]
  },
  {
   "cell_type": "code",
   "execution_count": 3,
   "id": "a0904014",
   "metadata": {},
   "outputs": [
    {
     "data": {
      "text/plain": [
       "float"
      ]
     },
     "execution_count": 3,
     "metadata": {},
     "output_type": "execute_result"
    }
   ],
   "source": [
    "y=3.5\n",
    "type(y)"
   ]
  },
  {
   "cell_type": "code",
   "execution_count": 4,
   "id": "4b054925",
   "metadata": {},
   "outputs": [
    {
     "data": {
      "text/plain": [
       "str"
      ]
     },
     "execution_count": 4,
     "metadata": {},
     "output_type": "execute_result"
    }
   ],
   "source": [
    "p=\"hello\"\n",
    "type(p)"
   ]
  },
  {
   "cell_type": "code",
   "execution_count": 6,
   "id": "460f079b",
   "metadata": {},
   "outputs": [
    {
     "name": "stdout",
     "output_type": "stream",
     "text": [
      "<class 'bool'>\n"
     ]
    }
   ],
   "source": [
    "q=True\n",
    "print(type(q))"
   ]
  },
  {
   "cell_type": "markdown",
   "id": "a5451c19",
   "metadata": {},
   "source": [
    "### "
   ]
  },
  {
   "cell_type": "code",
   "execution_count": 7,
   "id": "886b090e",
   "metadata": {},
   "outputs": [
    {
     "name": "stdout",
     "output_type": "stream",
     "text": [
      "c= 7\n"
     ]
    }
   ],
   "source": [
    "a=3\n",
    "b=4\n",
    "c=a+b\n",
    "print(\"c=\",c)"
   ]
  },
  {
   "cell_type": "code",
   "execution_count": 8,
   "id": "f6db522e",
   "metadata": {},
   "outputs": [
    {
     "name": "stdout",
     "output_type": "stream",
     "text": [
      "enter the 1st no.3\n",
      "enter the 2nd no.6\n",
      "Addition is: 9\n"
     ]
    }
   ],
   "source": [
    "a=int(input(\"enter the 1st no.\"))\n",
    "b=int(input(\"enter the 2nd no.\"))\n",
    "c=a+b\n",
    "print(\"Addition is:\",c)"
   ]
  },
  {
   "cell_type": "code",
   "execution_count": null,
   "id": "4a386fab",
   "metadata": {},
   "outputs": [],
   "source": []
  },
  {
   "cell_type": "markdown",
   "id": "910f93f6",
   "metadata": {},
   "source": [
    "###### "
   ]
  },
  {
   "cell_type": "code",
   "execution_count": 9,
   "id": "5e11a391",
   "metadata": {},
   "outputs": [
    {
     "name": "stdout",
     "output_type": "stream",
     "text": [
      "sum is 30\n"
     ]
    }
   ],
   "source": [
    "a=25\n",
    "b=5\n",
    "c=a+b\n",
    "print(\"sum is\",c)"
   ]
  },
  {
   "cell_type": "code",
   "execution_count": 11,
   "id": "efeaba6e",
   "metadata": {},
   "outputs": [
    {
     "name": "stdout",
     "output_type": "stream",
     "text": [
      "substraction is 20\n"
     ]
    }
   ],
   "source": [
    "c=a-b\n",
    "print(\"substraction is\",c)"
   ]
  },
  {
   "cell_type": "code",
   "execution_count": 12,
   "id": "8dfb62c4",
   "metadata": {},
   "outputs": [
    {
     "name": "stdout",
     "output_type": "stream",
     "text": [
      "multiplication is 125\n"
     ]
    }
   ],
   "source": [
    "c=a*b\n",
    "print(\"multiplication is\",c)"
   ]
  },
  {
   "cell_type": "code",
   "execution_count": 13,
   "id": "eb2d6e6b",
   "metadata": {},
   "outputs": [
    {
     "name": "stdout",
     "output_type": "stream",
     "text": [
      "division is 5.0\n"
     ]
    }
   ],
   "source": [
    "c=a/b\n",
    "print(\"division is\",c)"
   ]
  },
  {
   "cell_type": "code",
   "execution_count": 14,
   "id": "3800db20",
   "metadata": {},
   "outputs": [
    {
     "name": "stdout",
     "output_type": "stream",
     "text": [
      "modulous is 0\n"
     ]
    }
   ],
   "source": [
    "c=a%b\n",
    "print(\"modulous is\",c)"
   ]
  },
  {
   "cell_type": "code",
   "execution_count": 15,
   "id": "02b641e6",
   "metadata": {},
   "outputs": [
    {
     "name": "stdout",
     "output_type": "stream",
     "text": [
      "floor division 5\n"
     ]
    }
   ],
   "source": [
    "c=a//b\n",
    "print(\"floor division\",c)"
   ]
  },
  {
   "cell_type": "code",
   "execution_count": 16,
   "id": "5ecb088b",
   "metadata": {},
   "outputs": [
    {
     "name": "stdout",
     "output_type": "stream",
     "text": [
      "power is 9765625\n"
     ]
    }
   ],
   "source": [
    "c=a**b\n",
    "print(\"power is\",c)"
   ]
  },
  {
   "cell_type": "code",
   "execution_count": 18,
   "id": "162f737e",
   "metadata": {},
   "outputs": [
    {
     "name": "stdout",
     "output_type": "stream",
     "text": [
      "enter the length3\n",
      "enter the breadth6\n",
      "area is 18\n"
     ]
    }
   ],
   "source": [
    "# area of recatngle\n",
    "length=int(input(\"enter the length\"))\n",
    "breadth=int(input(\"enter the breadth\"))\n",
    "area=length*breadth\n",
    "print(\"area is\",area)"
   ]
  },
  {
   "cell_type": "code",
   "execution_count": 19,
   "id": "cbb07e9a",
   "metadata": {},
   "outputs": [
    {
     "name": "stdout",
     "output_type": "stream",
     "text": [
      "enter the length3\n",
      "enter the breadth5\n",
      "perimeter is 16\n"
     ]
    }
   ],
   "source": [
    "# perimeter of rectangle\n",
    "length=int(input(\"enter the length\"))\n",
    "breadth=int(input(\"enter the breadth\"))\n",
    "perimeter=2*(length+breadth)\n",
    "print(\"perimeter is\",perimeter)"
   ]
  },
  {
   "cell_type": "code",
   "execution_count": 23,
   "id": "88f256f9",
   "metadata": {},
   "outputs": [
    {
     "name": "stdout",
     "output_type": "stream",
     "text": [
      "enter the radius:3\n",
      "area of circle is 28.278\n"
     ]
    }
   ],
   "source": [
    "# area of circle\n",
    "radius=int(input(\"enter the radius:\"))\n",
    "pi=3.142\n",
    "area=pi*radius**2\n",
    "print(\"area of circle is\",area)"
   ]
  },
  {
   "cell_type": "code",
   "execution_count": 30,
   "id": "47bad931",
   "metadata": {},
   "outputs": [
    {
     "name": "stdout",
     "output_type": "stream",
     "text": [
      "enter the radius:1\n",
      "perimeter of circle 6.284\n"
     ]
    }
   ],
   "source": [
    "# perimeter of circle\n",
    "radius=int(input(\"enter the radius:\"))\n",
    "pi=3.142\n",
    "perimeter=2*pi*radius\n",
    "print(\"perimeter of circle\",perimeter)"
   ]
  },
  {
   "cell_type": "code",
   "execution_count": 31,
   "id": "741faa72",
   "metadata": {},
   "outputs": [
    {
     "name": "stdout",
     "output_type": "stream",
     "text": [
      "enter the radius:1\n",
      "area of circle is 3.141592653589793\n"
     ]
    }
   ],
   "source": [
    "# area of circle\n",
    "radius=int(input(\"enter the radius:\"))\n",
    "import math\n",
    "area=math.pi*radius**2\n",
    "print(\"area of circle is\",area)"
   ]
  },
  {
   "cell_type": "code",
   "execution_count": null,
   "id": "e4d00b65",
   "metadata": {},
   "outputs": [],
   "source": []
  }
 ],
 "metadata": {
  "kernelspec": {
   "display_name": "Python 3 (ipykernel)",
   "language": "python",
   "name": "python3"
  },
  "language_info": {
   "codemirror_mode": {
    "name": "ipython",
    "version": 3
   },
   "file_extension": ".py",
   "mimetype": "text/x-python",
   "name": "python",
   "nbconvert_exporter": "python",
   "pygments_lexer": "ipython3",
   "version": "3.11.3"
  }
 },
 "nbformat": 4,
 "nbformat_minor": 5
}
