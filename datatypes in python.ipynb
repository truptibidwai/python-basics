{
 "cells": [
  {
   "cell_type": "markdown",
   "id": "c2b04287",
   "metadata": {},
   "source": [
    "### string handling"
   ]
  },
  {
   "cell_type": "markdown",
   "id": "e7e75966",
   "metadata": {},
   "source": [
    "### a) + operator"
   ]
  },
  {
   "cell_type": "code",
   "execution_count": 2,
   "id": "5e7ce137",
   "metadata": {},
   "outputs": [
    {
     "data": {
      "text/plain": [
       "'hello mam'"
      ]
     },
     "execution_count": 2,
     "metadata": {},
     "output_type": "execute_result"
    }
   ],
   "source": [
    "#concatation\n",
    "\"hello\"+\" \"+\"mam\""
   ]
  },
  {
   "cell_type": "markdown",
   "id": "dfd7fdf3",
   "metadata": {},
   "source": [
    "### b)* operator"
   ]
  },
  {
   "cell_type": "code",
   "execution_count": 3,
   "id": "b0997809",
   "metadata": {},
   "outputs": [
    {
     "data": {
      "text/plain": [
       "'hello hello hello '"
      ]
     },
     "execution_count": 3,
     "metadata": {},
     "output_type": "execute_result"
    }
   ],
   "source": [
    "\"hello \"*3"
   ]
  },
  {
   "cell_type": "markdown",
   "id": "04f4ccca",
   "metadata": {},
   "source": [
    "### c) in or not in operator"
   ]
  },
  {
   "cell_type": "code",
   "execution_count": 4,
   "id": "10bfa4e6",
   "metadata": {},
   "outputs": [
    {
     "data": {
      "text/plain": [
       "True"
      ]
     },
     "execution_count": 4,
     "metadata": {},
     "output_type": "execute_result"
    }
   ],
   "source": [
    "s=\"python and data science\"\n",
    "s1=\"data\"\n",
    "s1 in s"
   ]
  },
  {
   "cell_type": "code",
   "execution_count": 5,
   "id": "b71d5458",
   "metadata": {},
   "outputs": [
    {
     "data": {
      "text/plain": [
       "False"
      ]
     },
     "execution_count": 5,
     "metadata": {},
     "output_type": "execute_result"
    }
   ],
   "source": [
    "s1 not in s"
   ]
  },
  {
   "cell_type": "code",
   "execution_count": 6,
   "id": "c3c034a5",
   "metadata": {},
   "outputs": [
    {
     "data": {
      "text/plain": [
       "False"
      ]
     },
     "execution_count": 6,
     "metadata": {},
     "output_type": "execute_result"
    }
   ],
   "source": [
    "s1=\"hello\"\n",
    "s1 in s"
   ]
  },
  {
   "cell_type": "markdown",
   "id": "e6438b77",
   "metadata": {},
   "source": [
    "### String function"
   ]
  },
  {
   "cell_type": "markdown",
   "id": "7a05a62e",
   "metadata": {},
   "source": [
    "### 1)char"
   ]
  },
  {
   "cell_type": "code",
   "execution_count": 7,
   "id": "909341b1",
   "metadata": {},
   "outputs": [
    {
     "data": {
      "text/plain": [
       "','"
      ]
     },
     "execution_count": 7,
     "metadata": {},
     "output_type": "execute_result"
    }
   ],
   "source": [
    "#ascii code to character\n",
    "chr(44)"
   ]
  },
  {
   "cell_type": "markdown",
   "id": "20acde40",
   "metadata": {},
   "source": [
    "### 2)ord()"
   ]
  },
  {
   "cell_type": "code",
   "execution_count": 9,
   "id": "176b3bce",
   "metadata": {},
   "outputs": [
    {
     "data": {
      "text/plain": [
       "98"
      ]
     },
     "execution_count": 9,
     "metadata": {},
     "output_type": "execute_result"
    }
   ],
   "source": [
    "#char to asci\n",
    "ord(\"b\")"
   ]
  },
  {
   "cell_type": "markdown",
   "id": "ca0be330",
   "metadata": {},
   "source": [
    "### 3)len"
   ]
  },
  {
   "cell_type": "code",
   "execution_count": 10,
   "id": "c0aff751",
   "metadata": {},
   "outputs": [
    {
     "data": {
      "text/plain": [
       "11"
      ]
     },
     "execution_count": 10,
     "metadata": {},
     "output_type": "execute_result"
    }
   ],
   "source": [
    "s=\"hello hello\"\n",
    "len(s)"
   ]
  },
  {
   "cell_type": "markdown",
   "id": "6fa7b26b",
   "metadata": {},
   "source": [
    "### 4)str"
   ]
  },
  {
   "cell_type": "code",
   "execution_count": 11,
   "id": "6d1c5009",
   "metadata": {},
   "outputs": [],
   "source": [
    "a=123 #int\n",
    "b=str(a)"
   ]
  },
  {
   "cell_type": "code",
   "execution_count": 12,
   "id": "685ea805",
   "metadata": {},
   "outputs": [
    {
     "data": {
      "text/plain": [
       "'123'"
      ]
     },
     "execution_count": 12,
     "metadata": {},
     "output_type": "execute_result"
    }
   ],
   "source": [
    "b"
   ]
  },
  {
   "cell_type": "markdown",
   "id": "35d880a9",
   "metadata": {},
   "source": [
    "### 5)upper"
   ]
  },
  {
   "cell_type": "code",
   "execution_count": 14,
   "id": "187a4fc9",
   "metadata": {},
   "outputs": [
    {
     "data": {
      "text/plain": [
       "'HELLO'"
      ]
     },
     "execution_count": 14,
     "metadata": {},
     "output_type": "execute_result"
    }
   ],
   "source": [
    "s=\"hello\"\n",
    "s.upper()"
   ]
  },
  {
   "cell_type": "markdown",
   "id": "cdf73e70",
   "metadata": {},
   "source": [
    "### 6)lower"
   ]
  },
  {
   "cell_type": "code",
   "execution_count": 16,
   "id": "337738c4",
   "metadata": {},
   "outputs": [
    {
     "data": {
      "text/plain": [
       "'hello'"
      ]
     },
     "execution_count": 16,
     "metadata": {},
     "output_type": "execute_result"
    }
   ],
   "source": [
    "s=\"HEllo\"\n",
    "s.lower()"
   ]
  },
  {
   "cell_type": "markdown",
   "id": "9e3fb3a4",
   "metadata": {},
   "source": [
    "### 7)capitalize"
   ]
  },
  {
   "cell_type": "code",
   "execution_count": 17,
   "id": "4c2ed467",
   "metadata": {},
   "outputs": [
    {
     "data": {
      "text/plain": [
       "'Hello'"
      ]
     },
     "execution_count": 17,
     "metadata": {},
     "output_type": "execute_result"
    }
   ],
   "source": [
    "s=\"hello\"\n",
    "s.capitalize()"
   ]
  },
  {
   "cell_type": "markdown",
   "id": "b027d432",
   "metadata": {},
   "source": [
    "### 8)title"
   ]
  },
  {
   "cell_type": "code",
   "execution_count": 18,
   "id": "1d352975",
   "metadata": {},
   "outputs": [
    {
     "data": {
      "text/plain": [
       "'Hello Mam'"
      ]
     },
     "execution_count": 18,
     "metadata": {},
     "output_type": "execute_result"
    }
   ],
   "source": [
    "s=\"hello mam\"\n",
    "s.title()"
   ]
  },
  {
   "cell_type": "markdown",
   "id": "f0d47c38",
   "metadata": {},
   "source": [
    "### 9)replace"
   ]
  },
  {
   "cell_type": "code",
   "execution_count": 19,
   "id": "a30da5a4",
   "metadata": {},
   "outputs": [
    {
     "data": {
      "text/plain": [
       "'hello sir'"
      ]
     },
     "execution_count": 19,
     "metadata": {},
     "output_type": "execute_result"
    }
   ],
   "source": [
    "s.replace(\"mam\",\"sir\")"
   ]
  },
  {
   "cell_type": "markdown",
   "id": "052a5e26",
   "metadata": {},
   "source": [
    "### 10)count"
   ]
  },
  {
   "cell_type": "code",
   "execution_count": 20,
   "id": "06dd66c9",
   "metadata": {},
   "outputs": [
    {
     "data": {
      "text/plain": [
       "2"
      ]
     },
     "execution_count": 20,
     "metadata": {},
     "output_type": "execute_result"
    }
   ],
   "source": [
    "s.count(\"l\")"
   ]
  },
  {
   "cell_type": "code",
   "execution_count": 21,
   "id": "ca3f3ec8",
   "metadata": {},
   "outputs": [
    {
     "data": {
      "text/plain": [
       "0"
      ]
     },
     "execution_count": 21,
     "metadata": {},
     "output_type": "execute_result"
    }
   ],
   "source": [
    "s.count(\"sir\")"
   ]
  },
  {
   "cell_type": "markdown",
   "id": "ddc81bda",
   "metadata": {},
   "source": [
    "### Boolean string function"
   ]
  },
  {
   "cell_type": "markdown",
   "id": "86449a66",
   "metadata": {},
   "source": [
    "### 11)startswith"
   ]
  },
  {
   "cell_type": "code",
   "execution_count": 22,
   "id": "b567d7b6",
   "metadata": {},
   "outputs": [
    {
     "data": {
      "text/plain": [
       "True"
      ]
     },
     "execution_count": 22,
     "metadata": {},
     "output_type": "execute_result"
    }
   ],
   "source": [
    "s.startswith(\"h\")"
   ]
  },
  {
   "cell_type": "code",
   "execution_count": 23,
   "id": "f85534f5",
   "metadata": {},
   "outputs": [
    {
     "data": {
      "text/plain": [
       "False"
      ]
     },
     "execution_count": 23,
     "metadata": {},
     "output_type": "execute_result"
    }
   ],
   "source": [
    "s.startswith(\"l\")"
   ]
  },
  {
   "cell_type": "markdown",
   "id": "934c94d4",
   "metadata": {},
   "source": [
    "### 12)endswith"
   ]
  },
  {
   "cell_type": "code",
   "execution_count": 24,
   "id": "2012f3c4",
   "metadata": {},
   "outputs": [
    {
     "data": {
      "text/plain": [
       "False"
      ]
     },
     "execution_count": 24,
     "metadata": {},
     "output_type": "execute_result"
    }
   ],
   "source": [
    "s.endswith(\"o\")"
   ]
  },
  {
   "cell_type": "markdown",
   "id": "5d1fbe76",
   "metadata": {},
   "source": [
    "### 13)isalpha()"
   ]
  },
  {
   "cell_type": "code",
   "execution_count": 25,
   "id": "c2cd4dd3",
   "metadata": {},
   "outputs": [
    {
     "data": {
      "text/plain": [
       "False"
      ]
     },
     "execution_count": 25,
     "metadata": {},
     "output_type": "execute_result"
    }
   ],
   "source": [
    "#space matters\n",
    "s.isalpha()"
   ]
  },
  {
   "cell_type": "code",
   "execution_count": 26,
   "id": "b126e987",
   "metadata": {},
   "outputs": [
    {
     "data": {
      "text/plain": [
       "'hello mam'"
      ]
     },
     "execution_count": 26,
     "metadata": {},
     "output_type": "execute_result"
    }
   ],
   "source": [
    "s"
   ]
  },
  {
   "cell_type": "code",
   "execution_count": 28,
   "id": "89454176",
   "metadata": {},
   "outputs": [
    {
     "data": {
      "text/plain": [
       "True"
      ]
     },
     "execution_count": 28,
     "metadata": {},
     "output_type": "execute_result"
    }
   ],
   "source": [
    "s=\"hi\"\n",
    "s.isalpha()"
   ]
  },
  {
   "cell_type": "markdown",
   "id": "5737cc06",
   "metadata": {},
   "source": [
    "### 14)isalnum()"
   ]
  },
  {
   "cell_type": "code",
   "execution_count": 29,
   "id": "519a7ce0",
   "metadata": {},
   "outputs": [
    {
     "name": "stdout",
     "output_type": "stream",
     "text": [
      "True\n",
      "True\n",
      "True\n",
      "False\n"
     ]
    }
   ],
   "source": [
    "s1=\"hello\"\n",
    "s2=\"hello123\"\n",
    "s3=\"1234\"\n",
    "s4=\"hello123 \"\n",
    "print(s1.isalnum())\n",
    "print(s2.isalnum())\n",
    "print(s3.isalnum())\n",
    "print(s4.isalnum())"
   ]
  },
  {
   "cell_type": "markdown",
   "id": "73bb86d8",
   "metadata": {},
   "source": [
    "### 15)isspace()"
   ]
  },
  {
   "cell_type": "code",
   "execution_count": 30,
   "id": "7b9f9789",
   "metadata": {},
   "outputs": [
    {
     "name": "stdout",
     "output_type": "stream",
     "text": [
      "False\n",
      "True\n"
     ]
    }
   ],
   "source": [
    "s1=\"hi\"\n",
    "s2=\" \"\n",
    "print(s1.isspace())\n",
    "print(s2.isspace())"
   ]
  },
  {
   "cell_type": "markdown",
   "id": "16798cab",
   "metadata": {},
   "source": [
    "### 16)isdigit"
   ]
  },
  {
   "cell_type": "code",
   "execution_count": 31,
   "id": "6334a298",
   "metadata": {},
   "outputs": [
    {
     "name": "stdout",
     "output_type": "stream",
     "text": [
      "True\n",
      "False\n"
     ]
    }
   ],
   "source": [
    "s1=\"3456\"\n",
    "s2=\"ret34\"\n",
    "print(s1.isdigit())\n",
    "print(s2.isdigit())"
   ]
  },
  {
   "cell_type": "markdown",
   "id": "8cae2625",
   "metadata": {},
   "source": [
    "### 17)islower"
   ]
  },
  {
   "cell_type": "code",
   "execution_count": 32,
   "id": "68573813",
   "metadata": {},
   "outputs": [
    {
     "name": "stdout",
     "output_type": "stream",
     "text": [
      "False\n"
     ]
    }
   ],
   "source": [
    "s=\"HELLO\"\n",
    "print(s.islower())"
   ]
  },
  {
   "cell_type": "code",
   "execution_count": 33,
   "id": "e64a695a",
   "metadata": {},
   "outputs": [
    {
     "data": {
      "text/plain": [
       "True"
      ]
     },
     "execution_count": 33,
     "metadata": {},
     "output_type": "execute_result"
    }
   ],
   "source": [
    "s=\"hello\"\n",
    "s.islower()"
   ]
  },
  {
   "cell_type": "markdown",
   "id": "7c3bf0f0",
   "metadata": {},
   "source": [
    "### 18)isupper()"
   ]
  },
  {
   "cell_type": "code",
   "execution_count": 34,
   "id": "cf416c08",
   "metadata": {},
   "outputs": [
    {
     "data": {
      "text/plain": [
       "False"
      ]
     },
     "execution_count": 34,
     "metadata": {},
     "output_type": "execute_result"
    }
   ],
   "source": [
    "s.isupper()"
   ]
  },
  {
   "cell_type": "code",
   "execution_count": null,
   "id": "c631198a",
   "metadata": {},
   "outputs": [],
   "source": []
  }
 ],
 "metadata": {
  "kernelspec": {
   "display_name": "Python 3 (ipykernel)",
   "language": "python",
   "name": "python3"
  },
  "language_info": {
   "codemirror_mode": {
    "name": "ipython",
    "version": 3
   },
   "file_extension": ".py",
   "mimetype": "text/x-python",
   "name": "python",
   "nbconvert_exporter": "python",
   "pygments_lexer": "ipython3",
   "version": "3.11.3"
  }
 },
 "nbformat": 4,
 "nbformat_minor": 5
}
