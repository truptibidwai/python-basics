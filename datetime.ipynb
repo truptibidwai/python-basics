{
 "cells": [
  {
   "cell_type": "code",
   "execution_count": 1,
   "id": "49c0177d",
   "metadata": {},
   "outputs": [],
   "source": [
    "x=123\n",
    "y=str(x)"
   ]
  },
  {
   "cell_type": "code",
   "execution_count": 2,
   "id": "6cc68ee9",
   "metadata": {},
   "outputs": [
    {
     "data": {
      "text/plain": [
       "'123'"
      ]
     },
     "execution_count": 2,
     "metadata": {},
     "output_type": "execute_result"
    }
   ],
   "source": [
    "y"
   ]
  },
  {
   "cell_type": "code",
   "execution_count": 3,
   "id": "44279859",
   "metadata": {},
   "outputs": [
    {
     "name": "stdout",
     "output_type": "stream",
     "text": [
      "2024-02-22 09:10:10.792213\n"
     ]
    }
   ],
   "source": [
    "import datetime as dt\n",
    "current_date_time=dt.datetime.now()\n",
    "print(current_date_time)"
   ]
  },
  {
   "cell_type": "code",
   "execution_count": 10,
   "id": "ddf77e7d",
   "metadata": {},
   "outputs": [
    {
     "data": {
      "text/plain": [
       "'22/02/2024 09:10:10'"
      ]
     },
     "execution_count": 10,
     "metadata": {},
     "output_type": "execute_result"
    }
   ],
   "source": [
    "#strftime\n",
    "current_date_time.strftime(\"%d/%m/%Y %H:%M:%S\")"
   ]
  },
  {
   "cell_type": "code",
   "execution_count": 11,
   "id": "9fe0d8eb",
   "metadata": {},
   "outputs": [
    {
     "data": {
      "text/plain": [
       "'22/Feb/2024 09:10:10'"
      ]
     },
     "execution_count": 11,
     "metadata": {},
     "output_type": "execute_result"
    }
   ],
   "source": [
    "current_date_time.strftime(\"%d/%b/%Y %H:%M:%S\")"
   ]
  },
  {
   "cell_type": "markdown",
   "id": "1691cd04",
   "metadata": {},
   "source": [
    "### To check the python version"
   ]
  },
  {
   "cell_type": "code",
   "execution_count": 12,
   "id": "d7a4ae14",
   "metadata": {},
   "outputs": [
    {
     "name": "stdout",
     "output_type": "stream",
     "text": [
      "version of python 3.11.3 | packaged by Anaconda, Inc. | (main, Apr 19 2023, 23:46:34) [MSC v.1916 64 bit (AMD64)]\n"
     ]
    }
   ],
   "source": [
    "import sys\n",
    "print(\"version of python\",sys.version)"
   ]
  },
  {
   "cell_type": "code",
   "execution_count": 13,
   "id": "0ab8a192",
   "metadata": {},
   "outputs": [
    {
     "name": "stdout",
     "output_type": "stream",
     "text": [
      "Python 3.11.3\n"
     ]
    }
   ],
   "source": [
    "!python --version"
   ]
  },
  {
   "cell_type": "code",
   "execution_count": null,
   "id": "ef2e77f0",
   "metadata": {},
   "outputs": [],
   "source": []
  }
 ],
 "metadata": {
  "kernelspec": {
   "display_name": "Python 3 (ipykernel)",
   "language": "python",
   "name": "python3"
  },
  "language_info": {
   "codemirror_mode": {
    "name": "ipython",
    "version": 3
   },
   "file_extension": ".py",
   "mimetype": "text/x-python",
   "name": "python",
   "nbconvert_exporter": "python",
   "pygments_lexer": "ipython3",
   "version": "3.11.3"
  }
 },
 "nbformat": 4,
 "nbformat_minor": 5
}
