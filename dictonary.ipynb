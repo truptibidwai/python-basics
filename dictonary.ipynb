{
 "cells": [
  {
   "cell_type": "markdown",
   "id": "ee40d1c8",
   "metadata": {},
   "source": [
    "### Dictonary\n",
    "\n",
    "- ordered\n",
    "- mutable\n",
    "- not allow duplicates"
   ]
  },
  {
   "cell_type": "markdown",
   "id": "eaccbf9c",
   "metadata": {},
   "source": [
    "### dict()"
   ]
  },
  {
   "cell_type": "code",
   "execution_count": 3,
   "id": "fd6580d1",
   "metadata": {},
   "outputs": [],
   "source": [
    "d1={\"name\":\"chetana\",\"age\":27}"
   ]
  },
  {
   "cell_type": "markdown",
   "id": "cb3dc823",
   "metadata": {},
   "source": [
    "### Changing the elements"
   ]
  },
  {
   "cell_type": "code",
   "execution_count": 4,
   "id": "92c56124",
   "metadata": {},
   "outputs": [
    {
     "data": {
      "text/plain": [
       "{'name': 'Trupti', 'age': 27}"
      ]
     },
     "execution_count": 4,
     "metadata": {},
     "output_type": "execute_result"
    }
   ],
   "source": [
    "d1[\"name\"]=\"Trupti\"\n",
    "d1"
   ]
  },
  {
   "cell_type": "markdown",
   "id": "7c6dae95",
   "metadata": {},
   "source": [
    "### Adding the elements"
   ]
  },
  {
   "cell_type": "code",
   "execution_count": 5,
   "id": "1f864114",
   "metadata": {},
   "outputs": [
    {
     "data": {
      "text/plain": [
       "{'name': 'Trupti', 'age': 27, 'city': 'mumbai'}"
      ]
     },
     "execution_count": 5,
     "metadata": {},
     "output_type": "execute_result"
    }
   ],
   "source": [
    "d1[\"city\"]=\"mumbai\"\n",
    "d1"
   ]
  },
  {
   "cell_type": "markdown",
   "id": "4fc544db",
   "metadata": {},
   "source": [
    "### Removing the elements"
   ]
  },
  {
   "cell_type": "code",
   "execution_count": 6,
   "id": "2b1a6498",
   "metadata": {},
   "outputs": [
    {
     "data": {
      "text/plain": [
       "{'name': 'Trupti', 'age': 27}"
      ]
     },
     "execution_count": 6,
     "metadata": {},
     "output_type": "execute_result"
    }
   ],
   "source": [
    "del d1[\"city\"]\n",
    "d1"
   ]
  },
  {
   "cell_type": "markdown",
   "id": "05bf774f",
   "metadata": {},
   "source": [
    "### pop()"
   ]
  },
  {
   "cell_type": "code",
   "execution_count": 7,
   "id": "9320187f",
   "metadata": {},
   "outputs": [],
   "source": [
    "d1={\"name\":\"chetana\",\"age\":27}"
   ]
  },
  {
   "cell_type": "code",
   "execution_count": 8,
   "id": "a08eddf7",
   "metadata": {},
   "outputs": [
    {
     "data": {
      "text/plain": [
       "'chetana'"
      ]
     },
     "execution_count": 8,
     "metadata": {},
     "output_type": "execute_result"
    }
   ],
   "source": [
    "d1.pop(\"name\")"
   ]
  },
  {
   "cell_type": "code",
   "execution_count": 9,
   "id": "a3dcf652",
   "metadata": {},
   "outputs": [
    {
     "data": {
      "text/plain": [
       "{'age': 27}"
      ]
     },
     "execution_count": 9,
     "metadata": {},
     "output_type": "execute_result"
    }
   ],
   "source": [
    "d1"
   ]
  },
  {
   "cell_type": "code",
   "execution_count": 10,
   "id": "1b155dc2",
   "metadata": {},
   "outputs": [
    {
     "data": {
      "text/plain": [
       "{'age': 27, 'city': 'mumbai'}"
      ]
     },
     "execution_count": 10,
     "metadata": {},
     "output_type": "execute_result"
    }
   ],
   "source": [
    "d1[\"city\"]=\"mumbai\"\n",
    "d1"
   ]
  },
  {
   "cell_type": "code",
   "execution_count": 11,
   "id": "2ed32414",
   "metadata": {},
   "outputs": [
    {
     "data": {
      "text/plain": [
       "('city', 'mumbai')"
      ]
     },
     "execution_count": 11,
     "metadata": {},
     "output_type": "execute_result"
    }
   ],
   "source": [
    "d1.popitem() ## remove the last added item"
   ]
  },
  {
   "cell_type": "code",
   "execution_count": 12,
   "id": "4350e39d",
   "metadata": {},
   "outputs": [
    {
     "data": {
      "text/plain": [
       "{'age': 27}"
      ]
     },
     "execution_count": 12,
     "metadata": {},
     "output_type": "execute_result"
    }
   ],
   "source": [
    "d1"
   ]
  },
  {
   "cell_type": "code",
   "execution_count": 13,
   "id": "51cb500b",
   "metadata": {},
   "outputs": [],
   "source": [
    "d1.clear()"
   ]
  },
  {
   "cell_type": "code",
   "execution_count": 14,
   "id": "1dda5646",
   "metadata": {},
   "outputs": [
    {
     "data": {
      "text/plain": [
       "{}"
      ]
     },
     "execution_count": 14,
     "metadata": {},
     "output_type": "execute_result"
    }
   ],
   "source": [
    "d1"
   ]
  },
  {
   "cell_type": "code",
   "execution_count": 15,
   "id": "a8d62978",
   "metadata": {},
   "outputs": [
    {
     "data": {
      "text/plain": [
       "0"
      ]
     },
     "execution_count": 15,
     "metadata": {},
     "output_type": "execute_result"
    }
   ],
   "source": [
    "len(d1)"
   ]
  },
  {
   "cell_type": "code",
   "execution_count": 16,
   "id": "228d3d47",
   "metadata": {},
   "outputs": [],
   "source": [
    "d1={\"name\":\"chetana\",\"age\":27}"
   ]
  },
  {
   "cell_type": "code",
   "execution_count": 17,
   "id": "ddd6e8e9",
   "metadata": {},
   "outputs": [
    {
     "data": {
      "text/plain": [
       "2"
      ]
     },
     "execution_count": 17,
     "metadata": {},
     "output_type": "execute_result"
    }
   ],
   "source": [
    "len(d1)"
   ]
  },
  {
   "cell_type": "markdown",
   "id": "ea4aec29",
   "metadata": {},
   "source": [
    "### keys()"
   ]
  },
  {
   "cell_type": "code",
   "execution_count": 18,
   "id": "923e1041",
   "metadata": {},
   "outputs": [
    {
     "data": {
      "text/plain": [
       "dict_keys(['name', 'age'])"
      ]
     },
     "execution_count": 18,
     "metadata": {},
     "output_type": "execute_result"
    }
   ],
   "source": [
    "d1.keys()"
   ]
  },
  {
   "cell_type": "code",
   "execution_count": 20,
   "id": "dbba3200",
   "metadata": {},
   "outputs": [
    {
     "data": {
      "text/plain": [
       "dict_values(['chetana', 27])"
      ]
     },
     "execution_count": 20,
     "metadata": {},
     "output_type": "execute_result"
    }
   ],
   "source": [
    "d1.values()"
   ]
  },
  {
   "cell_type": "markdown",
   "id": "02dcfa7d",
   "metadata": {},
   "source": [
    "### items()"
   ]
  },
  {
   "cell_type": "code",
   "execution_count": 21,
   "id": "08d9a871",
   "metadata": {},
   "outputs": [
    {
     "data": {
      "text/plain": [
       "dict_items([('name', 'chetana'), ('age', 27)])"
      ]
     },
     "execution_count": 21,
     "metadata": {},
     "output_type": "execute_result"
    }
   ],
   "source": [
    "d1.items()"
   ]
  },
  {
   "cell_type": "code",
   "execution_count": null,
   "id": "160879a5",
   "metadata": {},
   "outputs": [],
   "source": []
  }
 ],
 "metadata": {
  "kernelspec": {
   "display_name": "Python 3 (ipykernel)",
   "language": "python",
   "name": "python3"
  },
  "language_info": {
   "codemirror_mode": {
    "name": "ipython",
    "version": 3
   },
   "file_extension": ".py",
   "mimetype": "text/x-python",
   "name": "python",
   "nbconvert_exporter": "python",
   "pygments_lexer": "ipython3",
   "version": "3.11.3"
  }
 },
 "nbformat": 4,
 "nbformat_minor": 5
}
