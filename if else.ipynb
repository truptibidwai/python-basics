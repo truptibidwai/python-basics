{
 "cells": [
  {
   "cell_type": "markdown",
   "id": "6952cdac",
   "metadata": {},
   "source": [
    "### Simple if"
   ]
  },
  {
   "cell_type": "code",
   "execution_count": 2,
   "id": "0c07c3fe",
   "metadata": {},
   "outputs": [
    {
     "name": "stdout",
     "output_type": "stream",
     "text": [
      "Enter the age:23\n",
      "You can vote\n"
     ]
    }
   ],
   "source": [
    "a=int(input(\"Enter the age:\"))\n",
    "if a>=18:\n",
    "    print(\"You can vote\")\n",
    "    \n"
   ]
  },
  {
   "cell_type": "markdown",
   "id": "ba811c5f",
   "metadata": {},
   "source": [
    "### if else statement"
   ]
  },
  {
   "cell_type": "markdown",
   "id": "3906d531",
   "metadata": {},
   "source": [
    "### 1) Even and odd number check"
   ]
  },
  {
   "cell_type": "code",
   "execution_count": 5,
   "id": "7d690310",
   "metadata": {},
   "outputs": [
    {
     "name": "stdout",
     "output_type": "stream",
     "text": [
      "Enter the num:6\n",
      "6 is even number\n"
     ]
    }
   ],
   "source": [
    "num=int(input(\"Enter the num:\"))\n",
    "if num%2==0:\n",
    "    print(num,\"is even number\")\n",
    "else:\n",
    "    print(num,\"is odd number\")\n",
    "   "
   ]
  },
  {
   "cell_type": "markdown",
   "id": "cf3ae66d",
   "metadata": {},
   "source": [
    "### 2) Check age for voting"
   ]
  },
  {
   "cell_type": "code",
   "execution_count": 6,
   "id": "1f88bb77",
   "metadata": {},
   "outputs": [
    {
     "name": "stdout",
     "output_type": "stream",
     "text": [
      "Enter the age:6\n",
      "You are not eligible to vote\n"
     ]
    }
   ],
   "source": [
    "a=int(input(\"Enter the age:\"))\n",
    "if a>=18:\n",
    "        print(\"You can vote\")\n",
    "else:\n",
    "     print(\"You are not eligible to vote\")"
   ]
  },
  {
   "cell_type": "markdown",
   "id": "ddba15cf",
   "metadata": {},
   "source": [
    "### 3) larger of two numbers"
   ]
  },
  {
   "cell_type": "code",
   "execution_count": 8,
   "id": "3d0fe942",
   "metadata": {},
   "outputs": [
    {
     "name": "stdout",
     "output_type": "stream",
     "text": [
      "Enter the first number:2\n",
      "Enter the second number:5\n",
      "Second number is greater: 5\n"
     ]
    }
   ],
   "source": [
    "num1=int(input(\"Enter the first number:\"))\n",
    "num2=int(input(\"Enter the second number:\"))\n",
    "if num1>num2:\n",
    "    print(\"First number is greater:\",num1)\n",
    "else:\n",
    "    print(\"Second number is greater:\",num2)\n",
    "   \n",
    "    "
   ]
  },
  {
   "cell_type": "markdown",
   "id": "4ee5de85",
   "metadata": {},
   "source": [
    "### 4) smaller of two numbers"
   ]
  },
  {
   "cell_type": "code",
   "execution_count": 9,
   "id": "73291f47",
   "metadata": {},
   "outputs": [
    {
     "name": "stdout",
     "output_type": "stream",
     "text": [
      "Enter the first number:3\n",
      "Enter the second number:7\n",
      "First number is smaller: 3\n"
     ]
    }
   ],
   "source": [
    "num1=int(input(\"Enter the first number:\"))\n",
    "num2=int(input(\"Enter the second number:\"))\n",
    "if num1<num2:\n",
    "    print(\"First number is smaller:\",num1)\n",
    "else:\n",
    "    print(\"Second number is smaller:\",num2)\n",
    "   "
   ]
  },
  {
   "cell_type": "markdown",
   "id": "73ac41d5",
   "metadata": {},
   "source": [
    "### 5)write program to find maximum of three numbers¶"
   ]
  },
  {
   "cell_type": "code",
   "execution_count": 10,
   "id": "c7ef2081",
   "metadata": {},
   "outputs": [
    {
     "name": "stdout",
     "output_type": "stream",
     "text": [
      "Enter the first number:3\n",
      "Enter the second number:5\n",
      "Enter the third number:7\n",
      "Third number is greater: 7\n"
     ]
    }
   ],
   "source": [
    "n1=int(input(\"Enter the first number:\"))\n",
    "n2=int(input(\"Enter the second number:\"))\n",
    "n3=int(input(\"Enter the third number:\"))\n",
    "if n1>n2 and n1>n3:\n",
    "    print(\"First number is greater:\",n1)\n",
    "elif n2>n1 and n2>n3:\n",
    "    print(\"Second number is greater:\",n2)\n",
    "else:\n",
    "    print(\"Third number is greater:\",n3)"
   ]
  },
  {
   "cell_type": "code",
   "execution_count": 11,
   "id": "998de303",
   "metadata": {},
   "outputs": [
    {
     "name": "stdout",
     "output_type": "stream",
     "text": [
      "Enter the first number:2\n",
      "Enter the second number:4\n",
      "Enter the third number:6\n",
      "First number is smaller: 2\n"
     ]
    }
   ],
   "source": [
    "n1=int(input(\"Enter the first number:\"))\n",
    "n2=int(input(\"Enter the second number:\"))\n",
    "n3=int(input(\"Enter the third number:\"))\n",
    "if n1<n2 and n1<n3:\n",
    "    print(\"First number is smaller:\",n1)\n",
    "elif n2<n1 and n2<n3:\n",
    "    print(\"Second number is smaller:\",n2)\n",
    "else:\n",
    "    print(\"Third number is smaller:\",n3)"
   ]
  },
  {
   "cell_type": "markdown",
   "id": "2bb10f01",
   "metadata": {},
   "source": [
    "### 6) Pass or Fail"
   ]
  },
  {
   "cell_type": "code",
   "execution_count": 12,
   "id": "8e154259",
   "metadata": {},
   "outputs": [
    {
     "name": "stdout",
     "output_type": "stream",
     "text": [
      "Enter the student's score67\n",
      "Pass\n"
     ]
    }
   ],
   "source": [
    "score=float(input(\"Enter the student's score\"))\n",
    "if score>=35:\n",
    "    print(\"Pass\")\n",
    "else:\n",
    "    print(\"Fail\")"
   ]
  },
  {
   "cell_type": "markdown",
   "id": "99e26a99",
   "metadata": {},
   "source": [
    "### 7) Leap year"
   ]
  },
  {
   "cell_type": "code",
   "execution_count": 14,
   "id": "70d69bf0",
   "metadata": {},
   "outputs": [
    {
     "name": "stdout",
     "output_type": "stream",
     "text": [
      "Enter the year:1994\n",
      "Not Leap year\n"
     ]
    }
   ],
   "source": [
    "year=int(input(\"Enter the year:\"))\n",
    "if year%4==0 and year%100!=0:\n",
    "    print(\"Leap year\")\n",
    "else:\n",
    "    print(\"Not Leap year\")"
   ]
  },
  {
   "cell_type": "code",
   "execution_count": null,
   "id": "b27c0cd1",
   "metadata": {},
   "outputs": [],
   "source": [
    "#year/4 reminder:0\n",
    "#year/100 reminder:not 0\n",
    "#year/400 remainder:0"
   ]
  },
  {
   "cell_type": "markdown",
   "id": "78979982",
   "metadata": {},
   "source": [
    "### \n",
    "A leap year is a year that contains an extra day, February 29\n",
    "\n",
    "The rules for determining whether a year is a leap year are as follows:\n",
    "- If a year is evenly divisible by 4, it is a leap year, except for:\n",
    "- Years that are evenly divisible by 100 are not leap years, unless:\n",
    "- Years that are evenly divisible by 400 are leap years."
   ]
  },
  {
   "cell_type": "code",
   "execution_count": 16,
   "id": "285b4f7d",
   "metadata": {},
   "outputs": [
    {
     "name": "stdout",
     "output_type": "stream",
     "text": [
      "Enter the year:1996\n",
      "Leap year\n"
     ]
    }
   ],
   "source": [
    "year=int(input(\"Enter the year:\"))\n",
    "if (year%4==0 and year%100!=0) or(year%400==0):\n",
    "    print(\"Leap year\")\n",
    "else:\n",
    "    print(\"Not Leap year\")"
   ]
  },
  {
   "cell_type": "code",
   "execution_count": 17,
   "id": "ffab2649",
   "metadata": {},
   "outputs": [
    {
     "name": "stdout",
     "output_type": "stream",
     "text": [
      "Enter the age:45\n",
      "Adult\n"
     ]
    }
   ],
   "source": [
    "age=int(input(\"Enter the age:\"))\n",
    "if age<=12:\n",
    "    print(\"Child\")\n",
    "elif 20>age>12:\n",
    "    print(\"Teenger\")\n",
    "else:\n",
    "    print(\"Adult\")"
   ]
  },
  {
   "cell_type": "code",
   "execution_count": null,
   "id": "acd50679",
   "metadata": {},
   "outputs": [],
   "source": []
  }
 ],
 "metadata": {
  "kernelspec": {
   "display_name": "Python 3 (ipykernel)",
   "language": "python",
   "name": "python3"
  },
  "language_info": {
   "codemirror_mode": {
    "name": "ipython",
    "version": 3
   },
   "file_extension": ".py",
   "mimetype": "text/x-python",
   "name": "python",
   "nbconvert_exporter": "python",
   "pygments_lexer": "ipython3",
   "version": "3.11.3"
  }
 },
 "nbformat": 4,
 "nbformat_minor": 5
}
