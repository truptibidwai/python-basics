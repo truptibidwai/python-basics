{
 "cells": [
  {
   "cell_type": "code",
   "execution_count": null,
   "id": "34244769",
   "metadata": {},
   "outputs": [],
   "source": [
    "#more than one condition and that conditions are independent on each other"
   ]
  },
  {
   "cell_type": "markdown",
   "id": "5c8015d1",
   "metadata": {},
   "source": [
    "### 1) Simple calculator"
   ]
  },
  {
   "cell_type": "code",
   "execution_count": null,
   "id": "49b5a0e1",
   "metadata": {},
   "outputs": [],
   "source": [
    "#syntax of if\n",
    "if condition: #colon automatically takes indentation  "
   ]
  },
  {
   "cell_type": "code",
   "execution_count": 14,
   "id": "5219d4a9",
   "metadata": {},
   "outputs": [
    {
     "name": "stdout",
     "output_type": "stream",
     "text": [
      "Enter the first number:25\n",
      "Enter the second number:4\n",
      "Enter the operator (+,-,*,/,%,//):%\n",
      "Reminder of 25 and 4 is: 1\n"
     ]
    }
   ],
   "source": [
    "num1=int(input(\"Enter the first number:\"))\n",
    "num2=int(input(\"Enter the second number:\"))\n",
    "operator=str(input(\"Enter the operator (+,-,*,/,%,//):\"))\n",
    "if operator==\"+\":\n",
    "    result=num1+num2\n",
    "    print(\"Addition of\",num1, \"and\", num2, \"is:\",result)\n",
    "    #print(f\" Addition of {num1} and {num2} is: {result})\n",
    "elif operator==\"-\":\n",
    "    result=num1-num2\n",
    "    print(\"Substraction of\",num1, \"and\", num2, \"is:\",result)\n",
    "elif operator==\"*\":\n",
    "    result=num1*num2\n",
    "    print(\"Multiplication of\",num1, \"and\" ,num2 ,\"is:\",result)\n",
    "elif operator==\"/\":\n",
    "    result=num1/num2\n",
    "    print(\"Division of\",num1, \"and\" ,num2, \"is:\",result)\n",
    "elif operator==\"%\":\n",
    "    result=num1%num2\n",
    "    print(\"Reminder of\",num1, \"and\", num2 ,\"is:\",result)\n",
    "elif operator==\"//\":\n",
    "    result=num1//num2\n",
    "    print(\"Quotient of\",num1, \"and\" ,num2, \"is:\",result)\n",
    "else:\n",
    "    print(\"Invalid opreator\")\n",
    "   "
   ]
  },
  {
   "cell_type": "markdown",
   "id": "9417e7ec",
   "metadata": {},
   "source": [
    "### 2)Student Grade checker"
   ]
  },
  {
   "cell_type": "code",
   "execution_count": 18,
   "id": "57dc7bdd",
   "metadata": {},
   "outputs": [
    {
     "name": "stdout",
     "output_type": "stream",
     "text": [
      "Enter the percentage:90\n",
      "The student's grade is: A\n"
     ]
    }
   ],
   "source": [
    "percentage=float(input(\"Enter the percentage:\"))\n",
    "if percentage>=90:\n",
    "    grade=\"A\"\n",
    "elif percentage>=80:\n",
    "    grade=\"B\"\n",
    "elif percentage>=70:\n",
    "    grade=\"C\"\n",
    "elif percentage>=60:\n",
    "    grade=\"D\"\n",
    "else:\n",
    "    grade=\"F\"\n",
    "     \n",
    "print(f\"The student's grade is: {grade}\")\n"
   ]
  },
  {
   "cell_type": "markdown",
   "id": "b496a6f9",
   "metadata": {},
   "source": [
    "### 3)Number is Positive or Negative"
   ]
  },
  {
   "cell_type": "code",
   "execution_count": 21,
   "id": "b3241df1",
   "metadata": {},
   "outputs": [
    {
     "name": "stdout",
     "output_type": "stream",
     "text": [
      "Enter the number:7\n",
      "7  is Positive\n"
     ]
    }
   ],
   "source": [
    "a=int(input(\"Enter the number:\"))\n",
    "if a>0:\n",
    "    print(a,\" is Positive\")\n",
    "else:\n",
    "    print(a,\" is Negative\")"
   ]
  },
  {
   "cell_type": "code",
   "execution_count": 22,
   "id": "6ca7e517",
   "metadata": {},
   "outputs": [
    {
     "name": "stdout",
     "output_type": "stream",
     "text": [
      "Enter the number:0\n",
      "0  is Neutral\n"
     ]
    }
   ],
   "source": [
    "a=int(input(\"Enter the number:\"))  # checking for -1....,1..., and 0 also\n",
    "if a>0:\n",
    "    print(a,\" is Positive\")\n",
    "elif a<0:\n",
    "    print(a,\" is Negative\")\n",
    "else:\n",
    "     print(a,\" is Neutral\")"
   ]
  },
  {
   "cell_type": "markdown",
   "id": "a229e6b0",
   "metadata": {},
   "source": [
    "### 4) Marks checker"
   ]
  },
  {
   "cell_type": "code",
   "execution_count": 23,
   "id": "1d479d16",
   "metadata": {},
   "outputs": [
    {
     "name": "stdout",
     "output_type": "stream",
     "text": [
      "Enter the student's marks:69\n",
      "Student got B grade\n"
     ]
    }
   ],
   "source": [
    "marks=int(input(\"Enter the student's marks:\"))\n",
    "if 90<=marks<=100:\n",
    "    print(\"Student got A+ grade\")\n",
    "elif 80<=marks<=90:\n",
    "    print(\"Student got A grade\")\n",
    "elif 70<=marks<=80:\n",
    "    print(\"Student got B+ grade\")\n",
    "elif 60<=marks<=70:\n",
    "    print(\"Student got B grade\")\n",
    "elif 50<=marks<=60:\n",
    "    print(\"Student got C+ grade\")\n",
    "elif 40<=marks<=50:\n",
    "    print(\"Student got C grade\")\n",
    "else:\n",
    "    print(\"student is fail\")"
   ]
  },
  {
   "cell_type": "markdown",
   "id": "b4cb746d",
   "metadata": {},
   "source": [
    "### 5)Example code to classify temperature ranges"
   ]
  },
  {
   "cell_type": "code",
   "execution_count": 24,
   "id": "c0f0dd64",
   "metadata": {},
   "outputs": [
    {
     "name": "stdout",
     "output_type": "stream",
     "text": [
      "Enter the temperature in Celsius:6\n",
      "The temperature is classified as: Cold\n"
     ]
    }
   ],
   "source": [
    "temp=float(input(\"Enter the temperature in Celsius:\"))\n",
    "if temp<0:\n",
    "    classification=\"Freezing\"\n",
    "elif 0<temp<10:\n",
    "    classification=\"Cold\"\n",
    "elif 10<temp<20:\n",
    "    classification=\"Cool\"\n",
    "elif 20<temp<30:\n",
    "    classification=\"Warm\"\n",
    "else:\n",
    "    classification=\"Hot\"\n",
    "    \n",
    "print(\"The temperature is classified as:\",classification)"
   ]
  },
  {
   "cell_type": "markdown",
   "id": "d17ff3ca",
   "metadata": {},
   "source": [
    "### 6)Create a program that takes two numbers as input and prints whether they are equal or different"
   ]
  },
  {
   "cell_type": "code",
   "execution_count": 25,
   "id": "faf7ae32",
   "metadata": {},
   "outputs": [
    {
     "name": "stdout",
     "output_type": "stream",
     "text": [
      "Enter First number:3\n",
      "Enter Second number:7\n",
      "They are not equal\n"
     ]
    }
   ],
   "source": [
    "n1=int(input(\"Enter First number:\"))\n",
    "n2=int(input(\"Enter Second number:\"))\n",
    "if n1==n2:\n",
    "    print(\"They are equal\")\n",
    "else:\n",
    "    print(\"They are not equal\")"
   ]
  },
  {
   "cell_type": "markdown",
   "id": "1c7118f1",
   "metadata": {},
   "source": [
    "### 7)Build a program that reads a number from the user and identifies which range it falls into: 1-10, 11-20, 21-30, or above 30"
   ]
  },
  {
   "cell_type": "code",
   "execution_count": 26,
   "id": "a12c17e3",
   "metadata": {},
   "outputs": [
    {
     "name": "stdout",
     "output_type": "stream",
     "text": [
      "Enter the number:55\n",
      "above\n"
     ]
    }
   ],
   "source": [
    "n=int(input(\"Enter the number:\"))\n",
    "if 0<n<10:\n",
    "    print(\"in range of 1-10\")\n",
    "elif 11<=n<=20:\n",
    "    print(\"in range of 11-20\")\n",
    "elif 21<=n<=30:\n",
    "    print(\"in range of 21-30\")\n",
    "else:\n",
    "    print(\"above\")"
   ]
  },
  {
   "cell_type": "code",
   "execution_count": 30,
   "id": "312e121f",
   "metadata": {},
   "outputs": [
    {
     "name": "stdout",
     "output_type": "stream",
     "text": [
      "msdn\n"
     ]
    }
   ],
   "source": [
    "a=6\n",
    "b=9\n",
    "c=25\n",
    "if a>b and c>a:\n",
    "    print(\"yes\")\n",
    "elif c<a and c<b:\n",
    "    print(\"nope\")\n",
    "else:\n",
    "    print(\"msdn\")\n",
    "    "
   ]
  },
  {
   "cell_type": "code",
   "execution_count": 39,
   "id": "e2f19c18",
   "metadata": {},
   "outputs": [
    {
     "name": "stdout",
     "output_type": "stream",
     "text": [
      "4\n",
      "no its not above 10 and 20 also\n"
     ]
    }
   ],
   "source": [
    "# nested if\n",
    "x=int(input())\n",
    "if x>10:\n",
    "    print(\"above 10\")\n",
    "    if x>20:\n",
    "          print(\" also above 20\")\n",
    "    else:\n",
    "          print(\"no its not above 20\")\n",
    "else:\n",
    "     print(\"no its not above 10 and 20 also\")\n",
    "    "
   ]
  },
  {
   "cell_type": "code",
   "execution_count": null,
   "id": "6ba1d900",
   "metadata": {},
   "outputs": [],
   "source": []
  }
 ],
 "metadata": {
  "kernelspec": {
   "display_name": "Python 3 (ipykernel)",
   "language": "python",
   "name": "python3"
  },
  "language_info": {
   "codemirror_mode": {
    "name": "ipython",
    "version": 3
   },
   "file_extension": ".py",
   "mimetype": "text/x-python",
   "name": "python",
   "nbconvert_exporter": "python",
   "pygments_lexer": "ipython3",
   "version": "3.11.3"
  }
 },
 "nbformat": 4,
 "nbformat_minor": 5
}
