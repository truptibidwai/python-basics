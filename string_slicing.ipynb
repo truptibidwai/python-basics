{
 "cells": [
  {
   "cell_type": "code",
   "execution_count": 1,
   "id": "9da7013b",
   "metadata": {},
   "outputs": [],
   "source": [
    "s=\"my name is trupti\""
   ]
  },
  {
   "cell_type": "code",
   "execution_count": 2,
   "id": "07b45b9f",
   "metadata": {},
   "outputs": [
    {
     "data": {
      "text/plain": [
       "' nam'"
      ]
     },
     "execution_count": 2,
     "metadata": {},
     "output_type": "execute_result"
    }
   ],
   "source": [
    "#positive indexing\n",
    "s[2:6:1]"
   ]
  },
  {
   "cell_type": "code",
   "execution_count": 3,
   "id": "e207c517",
   "metadata": {},
   "outputs": [
    {
     "data": {
      "text/plain": [
       "'nam'"
      ]
     },
     "execution_count": 3,
     "metadata": {},
     "output_type": "execute_result"
    }
   ],
   "source": [
    "s[3:6]"
   ]
  },
  {
   "cell_type": "code",
   "execution_count": 4,
   "id": "92ae1426",
   "metadata": {},
   "outputs": [
    {
     "data": {
      "text/plain": [
       "'name is trupti'"
      ]
     },
     "execution_count": 4,
     "metadata": {},
     "output_type": "execute_result"
    }
   ],
   "source": [
    "s[3::]"
   ]
  },
  {
   "cell_type": "code",
   "execution_count": 5,
   "id": "18cfd0b4",
   "metadata": {},
   "outputs": [
    {
     "data": {
      "text/plain": [
       "'name is trupti'"
      ]
     },
     "execution_count": 5,
     "metadata": {},
     "output_type": "execute_result"
    }
   ],
   "source": [
    "s[3:]"
   ]
  },
  {
   "cell_type": "code",
   "execution_count": 6,
   "id": "54404beb",
   "metadata": {},
   "outputs": [
    {
     "data": {
      "text/plain": [
       "'upti'"
      ]
     },
     "execution_count": 6,
     "metadata": {},
     "output_type": "execute_result"
    }
   ],
   "source": [
    "#negative slicing\n",
    "s[-4:]"
   ]
  },
  {
   "cell_type": "code",
   "execution_count": 7,
   "id": "283410b4",
   "metadata": {},
   "outputs": [],
   "source": [
    "st=\"we are here to learn python from IPCS\""
   ]
  },
  {
   "cell_type": "code",
   "execution_count": 11,
   "id": "3ca76d51",
   "metadata": {},
   "outputs": [
    {
     "data": {
      "text/plain": [
       "'IPCS'"
      ]
     },
     "execution_count": 11,
     "metadata": {},
     "output_type": "execute_result"
    }
   ],
   "source": [
    "#negative slicing\n",
    "st[-4:]"
   ]
  },
  {
   "cell_type": "code",
   "execution_count": 12,
   "id": "f427700c",
   "metadata": {},
   "outputs": [
    {
     "data": {
      "text/plain": [
       "'e to '"
      ]
     },
     "execution_count": 12,
     "metadata": {},
     "output_type": "execute_result"
    }
   ],
   "source": [
    "st[10:15]"
   ]
  },
  {
   "cell_type": "code",
   "execution_count": 17,
   "id": "1999134b",
   "metadata": {},
   "outputs": [
    {
     "data": {
      "text/plain": [
       "'we are here to learn python from IPCS'"
      ]
     },
     "execution_count": 17,
     "metadata": {},
     "output_type": "execute_result"
    }
   ],
   "source": [
    "st"
   ]
  },
  {
   "cell_type": "code",
   "execution_count": 23,
   "id": "11fb24c7",
   "metadata": {},
   "outputs": [
    {
     "data": {
      "text/plain": [
       "'on from'"
      ]
     },
     "execution_count": 23,
     "metadata": {},
     "output_type": "execute_result"
    }
   ],
   "source": [
    "st[-12:-5]"
   ]
  },
  {
   "cell_type": "code",
   "execution_count": 22,
   "id": "af1d7859",
   "metadata": {},
   "outputs": [
    {
     "data": {
      "text/plain": [
       "' from '"
      ]
     },
     "execution_count": 22,
     "metadata": {},
     "output_type": "execute_result"
    }
   ],
   "source": [
    "st[-10:-4]"
   ]
  },
  {
   "cell_type": "code",
   "execution_count": 21,
   "id": "c2afef38",
   "metadata": {},
   "outputs": [
    {
     "data": {
      "text/plain": [
       "'ae'"
      ]
     },
     "execution_count": 21,
     "metadata": {},
     "output_type": "execute_result"
    }
   ],
   "source": [
    "st[3:6:2]"
   ]
  },
  {
   "cell_type": "code",
   "execution_count": 24,
   "id": "26f38eeb",
   "metadata": {},
   "outputs": [
    {
     "data": {
      "text/plain": [
       "'l '"
      ]
     },
     "execution_count": 24,
     "metadata": {},
     "output_type": "execute_result"
    }
   ],
   "source": [
    "#reverse slicing\n",
    "#positive\n",
    "st[15:13:-1]"
   ]
  },
  {
   "cell_type": "code",
   "execution_count": 26,
   "id": "3546f479",
   "metadata": {},
   "outputs": [
    {
     "data": {
      "text/plain": [
       "'er'"
      ]
     },
     "execution_count": 26,
     "metadata": {},
     "output_type": "execute_result"
    }
   ],
   "source": [
    "st[5:3:-1]"
   ]
  },
  {
   "cell_type": "code",
   "execution_count": 42,
   "id": "3dc22f33",
   "metadata": {},
   "outputs": [
    {
     "data": {
      "text/plain": [
       "'ereh'"
      ]
     },
     "execution_count": 42,
     "metadata": {},
     "output_type": "execute_result"
    }
   ],
   "source": [
    "st[10:6:-1]"
   ]
  },
  {
   "cell_type": "code",
   "execution_count": 44,
   "id": "37a786c9",
   "metadata": {},
   "outputs": [
    {
     "data": {
      "text/plain": [
       "'SCPI'"
      ]
     },
     "execution_count": 44,
     "metadata": {},
     "output_type": "execute_result"
    }
   ],
   "source": [
    "st[-1:-5:-1]"
   ]
  },
  {
   "cell_type": "code",
   "execution_count": 45,
   "id": "bd41e521",
   "metadata": {},
   "outputs": [
    {
     "data": {
      "text/plain": [
       "'SP'"
      ]
     },
     "execution_count": 45,
     "metadata": {},
     "output_type": "execute_result"
    }
   ],
   "source": [
    "st[-1:-5:-2]"
   ]
  },
  {
   "cell_type": "code",
   "execution_count": 46,
   "id": "f7b12ed5",
   "metadata": {},
   "outputs": [
    {
     "data": {
      "text/plain": [
       "'SCPI morf nohtyp nrael ot ereh era ew'"
      ]
     },
     "execution_count": 46,
     "metadata": {},
     "output_type": "execute_result"
    }
   ],
   "source": [
    "st[::-1]"
   ]
  },
  {
   "cell_type": "markdown",
   "id": "8671d93a",
   "metadata": {},
   "source": [
    "### f string method"
   ]
  },
  {
   "cell_type": "code",
   "execution_count": 48,
   "id": "41b22a3c",
   "metadata": {},
   "outputs": [
    {
     "name": "stdout",
     "output_type": "stream",
     "text": [
      "Addition of 3 and 6 is 9\n"
     ]
    }
   ],
   "source": [
    "a=3\n",
    "b=6\n",
    "c=a+b\n",
    "print(f\"Addition of {a} and {b} is\",c)"
   ]
  },
  {
   "cell_type": "markdown",
   "id": "5b40a14b",
   "metadata": {},
   "source": [
    "### Escape Character"
   ]
  },
  {
   "cell_type": "code",
   "execution_count": 50,
   "id": "2af07b15",
   "metadata": {},
   "outputs": [
    {
     "ename": "SyntaxError",
     "evalue": "invalid syntax (2984499822.py, line 1)",
     "output_type": "error",
     "traceback": [
      "\u001b[1;36m  Cell \u001b[1;32mIn[50], line 1\u001b[1;36m\u001b[0m\n\u001b[1;33m    s=\"we are the so called \"vikings\" from the north.\"\u001b[0m\n\u001b[1;37m                             ^\u001b[0m\n\u001b[1;31mSyntaxError\u001b[0m\u001b[1;31m:\u001b[0m invalid syntax\n"
     ]
    }
   ],
   "source": [
    "#syntax \\\"\n",
    "s=\"we are the so called \"vikings\" from the north.\""
   ]
  },
  {
   "cell_type": "code",
   "execution_count": 51,
   "id": "cec08395",
   "metadata": {},
   "outputs": [],
   "source": [
    "s=\"we are the so called \\\"vikings\\\" from the north.\""
   ]
  },
  {
   "cell_type": "code",
   "execution_count": 52,
   "id": "f9bc2e4e",
   "metadata": {},
   "outputs": [
    {
     "name": "stdout",
     "output_type": "stream",
     "text": [
      "we are the so called \"vikings\" from the north.\n"
     ]
    }
   ],
   "source": [
    "print(s)"
   ]
  },
  {
   "cell_type": "markdown",
   "id": "bb908428",
   "metadata": {},
   "source": [
    "### \\n"
   ]
  },
  {
   "cell_type": "code",
   "execution_count": 53,
   "id": "6ab60f46",
   "metadata": {},
   "outputs": [],
   "source": [
    "s=\"we are the so called \\nvikings from the north.\""
   ]
  },
  {
   "cell_type": "code",
   "execution_count": 54,
   "id": "acd598b7",
   "metadata": {},
   "outputs": [
    {
     "name": "stdout",
     "output_type": "stream",
     "text": [
      "we are the so called \n",
      "vikings from the north.\n"
     ]
    }
   ],
   "source": [
    "print(s)"
   ]
  },
  {
   "cell_type": "markdown",
   "id": "d4fecfa2",
   "metadata": {},
   "source": [
    "### \\t"
   ]
  },
  {
   "cell_type": "code",
   "execution_count": 55,
   "id": "9e581b77",
   "metadata": {},
   "outputs": [],
   "source": [
    "s=\"we are the so called \\tvikings from the north.\""
   ]
  },
  {
   "cell_type": "code",
   "execution_count": 56,
   "id": "ae40157c",
   "metadata": {},
   "outputs": [
    {
     "name": "stdout",
     "output_type": "stream",
     "text": [
      "we are the so called \tvikings from the north.\n"
     ]
    }
   ],
   "source": [
    "print(s)"
   ]
  },
  {
   "cell_type": "markdown",
   "id": "fdd9e4dc",
   "metadata": {},
   "source": [
    "### \\b"
   ]
  },
  {
   "cell_type": "code",
   "execution_count": 58,
   "id": "90057eaf",
   "metadata": {},
   "outputs": [
    {
     "name": "stdout",
     "output_type": "stream",
     "text": [
      "we are the so calle\bd\b vikings from the north.\n"
     ]
    }
   ],
   "source": [
    "s=\"we are the so calle\\bd\\b vikings from the north.\"\n",
    "print(s)"
   ]
  },
  {
   "cell_type": "markdown",
   "id": "92cadedd",
   "metadata": {},
   "source": [
    "### \\r"
   ]
  },
  {
   "cell_type": "code",
   "execution_count": 59,
   "id": "3c4f089c",
   "metadata": {},
   "outputs": [
    {
     "name": "stdout",
     "output_type": "stream",
     "text": [
      "we are the so called \r",
      "vikings from the north.\n"
     ]
    }
   ],
   "source": [
    "s=\"we are the so called \\rvikings from the north.\"\n",
    "print(s)"
   ]
  },
  {
   "cell_type": "code",
   "execution_count": 60,
   "id": "2e16c54b",
   "metadata": {},
   "outputs": [
    {
     "name": "stdout",
     "output_type": "stream",
     "text": [
      "we are the so called vikings from \r",
      "the north.\n"
     ]
    }
   ],
   "source": [
    "s=\"we are the so called vikings from \\rthe north.\"\n",
    "print(s)"
   ]
  },
  {
   "cell_type": "code",
   "execution_count": null,
   "id": "9225195f",
   "metadata": {},
   "outputs": [],
   "source": []
  }
 ],
 "metadata": {
  "kernelspec": {
   "display_name": "Python 3 (ipykernel)",
   "language": "python",
   "name": "python3"
  },
  "language_info": {
   "codemirror_mode": {
    "name": "ipython",
    "version": 3
   },
   "file_extension": ".py",
   "mimetype": "text/x-python",
   "name": "python",
   "nbconvert_exporter": "python",
   "pygments_lexer": "ipython3",
   "version": "3.11.3"
  }
 },
 "nbformat": 4,
 "nbformat_minor": 5
}
